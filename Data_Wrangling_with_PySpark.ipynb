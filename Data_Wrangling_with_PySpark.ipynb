{
  "nbformat": 4,
  "nbformat_minor": 0,
  "metadata": {
    "colab": {
      "provenance": []
    },
    "kernelspec": {
      "name": "python3",
      "display_name": "Python 3"
    },
    "language_info": {
      "name": "python"
    }
  },
  "cells": [
    {
      "cell_type": "markdown",
      "source": [
        "# Data Wrangling with PySpark"
      ],
      "metadata": {
        "id": "53Dl7sHy5Ez3"
      }
    },
    {
      "cell_type": "markdown",
      "source": [
        "#### Referencing\n",
        "[Master Data Wrangling with PySpark: A Comprehensive Cheat Sheet](https://amandeepsinghkhanna.github.io/data-wrangling-with-pyspark/) by Amandeep Singh Khanna"
      ],
      "metadata": {
        "id": "P6auJ4ih5K7L"
      }
    },
    {
      "cell_type": "markdown",
      "source": [
        "First, I had to set up the right Java version along with the Spark package onto this environment and set the path variables.\n",
        "\n",
        "Aman gave tips to get help from [Medard Story's Tutorial](https://youtu.be/e1wdJuBoRz4?si=q7LbZkeMK3_BwmYU) on how to get this set up for the first time. The code is optional and hence will be in a text cell."
      ],
      "metadata": {
        "id": "eeJlt_Na5jZN"
      }
    },
    {
      "cell_type": "markdown",
      "source": [
        "### Code from Medard's tutorial on setting up the Java requirements and Spark\n",
        "*Check if we have java 8 or not*  \n",
        "!ls /usr/lib/jvm/  \n",
        "\n",
        "*Download and install Java 8*  \n",
        "!apt-get update  \n",
        "!apt-get install   openjdk-8-jdk-headless -qq > /dev/null\n",
        "\n",
        "*Download Apache Spark binary*  \n",
        "*Install spark (change the version number if needed)*  \n",
        "!wget -q https://archive.apache.org/dist/spark/spark-3.0.0/spark-3.0.0-bin-hadoop3.2.tgz  \n",
        "\n",
        "*Unzip the spark file to the current folder*  \n",
        "!tar xf spark-3.0.0-bin-hadoop3.2.tgz  \n",
        "\n",
        "*Set your spark folder to your system path environment.*  \n",
        "import os  \n",
        "os.environ[\"JAVA_HOME\"] = \"/usr/lib/jvm/java-8-openjdk-amd64\"  \n",
        "os.environ[\"SPARK_HOME\"] = \"/content/spark-3.0.0-bin-hadoop3.2\"  \n",
        "\n",
        "*Install findspark using pip*  \n",
        "!pip install -q findspark"
      ],
      "metadata": {
        "id": "IJ_WBA956OzE"
      }
    },
    {
      "cell_type": "code",
      "source": [
        "# Importing the package with Spark and initialising it\n",
        "import findspark\n",
        "findspark.init()"
      ],
      "metadata": {
        "id": "roSXBA1Ulg6U"
      },
      "execution_count": 16,
      "outputs": []
    },
    {
      "cell_type": "code",
      "source": [
        "# Importing pyspark\n",
        "import pyspark"
      ],
      "metadata": {
        "id": "KuzFRg5Qlz4z"
      },
      "execution_count": 17,
      "outputs": []
    },
    {
      "cell_type": "code",
      "source": [
        "# Checking which PySpark version is loaded\n",
        "pyspark.__version__"
      ],
      "metadata": {
        "colab": {
          "base_uri": "https://localhost:8080/",
          "height": 35
        },
        "id": "oR1Z32Oal4mx",
        "outputId": "b8bbe9e4-d9d5-4192-95cd-65ec5abf3e14"
      },
      "execution_count": 18,
      "outputs": [
        {
          "output_type": "execute_result",
          "data": {
            "text/plain": [
              "'3.0.0'"
            ],
            "application/vnd.google.colaboratory.intrinsic+json": {
              "type": "string"
            }
          },
          "metadata": {},
          "execution_count": 18
        }
      ]
    },
    {
      "cell_type": "code",
      "source": [
        "# Import the package to start a Spark Session to work within\n",
        "from pyspark.sql import SparkSession"
      ],
      "metadata": {
        "id": "K2JisW0TmHd4"
      },
      "execution_count": 19,
      "outputs": []
    },
    {
      "cell_type": "code",
      "source": [
        "# Creating the Spark session object\n",
        "spark = (\n",
        "\tSparkSession\n",
        "\t.builder\n",
        "\t.appName(\"DataWranglingwithPyspark\")\n",
        "\t.getOrCreate()\n",
        ")"
      ],
      "metadata": {
        "id": "61-DYLIhmlWn"
      },
      "execution_count": 20,
      "outputs": []
    },
    {
      "cell_type": "code",
      "source": [
        "# Reading from a csv file\n",
        "airports_df = (\n",
        "spark.read.csv(\"/content/sample_data/airports.csv\", header = True, inferSchema = True\n",
        "              )\n",
        ")"
      ],
      "metadata": {
        "id": "Ix20I7ermuko"
      },
      "execution_count": 21,
      "outputs": []
    },
    {
      "cell_type": "markdown",
      "source": [
        "Displaying the pyspark dataframe"
      ],
      "metadata": {
        "id": "EcyPpW_u4p0X"
      }
    },
    {
      "cell_type": "code",
      "source": [
        "airports_df.show()"
      ],
      "metadata": {
        "colab": {
          "base_uri": "https://localhost:8080/"
        },
        "id": "oayJFy-o06wr",
        "outputId": "0ca4875b-596a-458c-e936-f71c5d48799c"
      },
      "execution_count": 22,
      "outputs": [
        {
          "output_type": "stream",
          "name": "stdout",
          "text": [
            "+---+--------------------+------------------+-------------------+----+---+---+-------------------+\n",
            "|faa|                name|               lat|                lon| alt| tz|dst|              tzone|\n",
            "+---+--------------------+------------------+-------------------+----+---+---+-------------------+\n",
            "|04G|   Lansdowne Airport|        41.1304722|        -80.6195833|1044| -5|  A|   America/New_York|\n",
            "|06A|Moton Field Munic...|        32.4605722|        -85.6800278| 264| -6|  A|    America/Chicago|\n",
            "|06C| Schaumburg Regional|        41.9893408|        -88.1012428| 801| -6|  A|    America/Chicago|\n",
            "|06N|     Randall Airport|         41.431912|        -74.3915611| 523| -5|  A|   America/New_York|\n",
            "|09J|Jekyll Island Air...|        31.0744722|        -81.4277778|  11| -5|  A|   America/New_York|\n",
            "|0A9|Elizabethton Muni...|        36.3712222|        -82.1734167|1593| -5|  A|   America/New_York|\n",
            "|0G6|Williams County A...|        41.4673056|        -84.5067778| 730| -5|  A|   America/New_York|\n",
            "|0G7|Finger Lakes Regi...|        42.8835647|        -76.7812318| 492| -5|  A|   America/New_York|\n",
            "|0P2|Shoestring Aviati...|        39.7948244|        -76.6471914|1000| -5|  U|   America/New_York|\n",
            "|0S9|Jefferson County ...|        48.0538086|       -122.8106436| 108| -8|  A|America/Los_Angeles|\n",
            "|0W3|Harford County Ai...|        39.5668378|        -76.2024028| 409| -5|  A|   America/New_York|\n",
            "|10C|  Galt Field Airport|        42.4028889|        -88.3751111| 875| -6|  U|    America/Chicago|\n",
            "|17G|Port Bucyrus-Craw...|        40.7815556|        -82.9748056|1003| -5|  A|   America/New_York|\n",
            "|19A|Jackson County Ai...|        34.1758638|        -83.5615972| 951| -5|  U|   America/New_York|\n",
            "|1A3|Martin Campbell F...|        35.0158056|        -84.3468333|1789| -5|  A|   America/New_York|\n",
            "|1B9| Mansfield Municipal|        42.0001331|        -71.1967714| 122| -5|  A|   America/New_York|\n",
            "|1C9|Frazier Lake Airpark|54.013333333333335|-124.76833333333333| 152| -8|  A|  America/Vancouver|\n",
            "|1CS|Clow Internationa...|        41.6959744|        -88.1292306| 670| -6|  U|    America/Chicago|\n",
            "|1G3|  Kent State Airport|        41.1513889|        -81.4151111|1134| -5|  A|   America/New_York|\n",
            "|1G4|Grand Canyon West...|         35.899904|        -113.815674|4813| -7|  A|    America/Phoenix|\n",
            "+---+--------------------+------------------+-------------------+----+---+---+-------------------+\n",
            "only showing top 20 rows\n",
            "\n"
          ]
        }
      ]
    },
    {
      "cell_type": "markdown",
      "source": [
        "Checking the schema of the dataframe"
      ],
      "metadata": {
        "id": "VrNnKCqW43wd"
      }
    },
    {
      "cell_type": "code",
      "source": [
        "airports_df.printSchema()"
      ],
      "metadata": {
        "colab": {
          "base_uri": "https://localhost:8080/"
        },
        "id": "MUoOSuAk40AB",
        "outputId": "2f5490aa-a635-4026-9463-b2b3282a41c3"
      },
      "execution_count": 23,
      "outputs": [
        {
          "output_type": "stream",
          "name": "stdout",
          "text": [
            "root\n",
            " |-- faa: string (nullable = true)\n",
            " |-- name: string (nullable = true)\n",
            " |-- lat: double (nullable = true)\n",
            " |-- lon: double (nullable = true)\n",
            " |-- alt: integer (nullable = true)\n",
            " |-- tz: integer (nullable = true)\n",
            " |-- dst: string (nullable = true)\n",
            " |-- tzone: string (nullable = true)\n",
            "\n"
          ]
        }
      ]
    },
    {
      "cell_type": "markdown",
      "source": [
        "Displaying the shape of the dataframe"
      ],
      "metadata": {
        "id": "xfzXyh8h4-f6"
      }
    },
    {
      "cell_type": "code",
      "source": [
        "print(f\"The number of rows are: {airports_df.count()} \\nThe number of columns are: {len(airports_df.columns)}\")"
      ],
      "metadata": {
        "colab": {
          "base_uri": "https://localhost:8080/"
        },
        "id": "lCMYztGH4801",
        "outputId": "ae8856ad-26c5-462d-8614-174abe88d94e"
      },
      "execution_count": 26,
      "outputs": [
        {
          "output_type": "stream",
          "name": "stdout",
          "text": [
            "The number of rows are: 1458 \n",
            "The number of columns are: 8\n"
          ]
        }
      ]
    },
    {
      "cell_type": "markdown",
      "source": [
        "Listing all columns in our dataframe"
      ],
      "metadata": {
        "id": "ic-Ra6LV70Cf"
      }
    },
    {
      "cell_type": "code",
      "source": [
        "airports_df.columns"
      ],
      "metadata": {
        "colab": {
          "base_uri": "https://localhost:8080/"
        },
        "id": "Ny5Ck-hA7j6r",
        "outputId": "dfe5189f-cdfa-4dea-c9e7-94fda561cd9c"
      },
      "execution_count": 27,
      "outputs": [
        {
          "output_type": "execute_result",
          "data": {
            "text/plain": [
              "['faa', 'name', 'lat', 'lon', 'alt', 'tz', 'dst', 'tzone']"
            ]
          },
          "metadata": {},
          "execution_count": 27
        }
      ]
    },
    {
      "cell_type": "markdown",
      "source": [
        "Now lets gets down to the wrangling of our data! 😆"
      ],
      "metadata": {
        "id": "CiD0u_oW75b8"
      }
    },
    {
      "cell_type": "code",
      "source": [
        "# Lets filter the rows based on a condition: airports over an altitude of 1000!!\n",
        "\n",
        "airports_over_1000_df = airports_df.filter(airports_df[\"alt\"]>1000)\n",
        "# PySpark dataframes aren't callable"
      ],
      "metadata": {
        "id": "EY460gRY73EQ"
      },
      "execution_count": 34,
      "outputs": []
    },
    {
      "cell_type": "code",
      "source": [
        "airports_over_1000_df.show()"
      ],
      "metadata": {
        "colab": {
          "base_uri": "https://localhost:8080/"
        },
        "id": "n-WTzmvG8xrc",
        "outputId": "878b13fe-138d-4023-aaea-d74e55780eaf"
      },
      "execution_count": 33,
      "outputs": [
        {
          "output_type": "stream",
          "name": "stdout",
          "text": [
            "+---+--------------------+----------+------------+----+---+---+-------------------+\n",
            "|faa|                name|       lat|         lon| alt| tz|dst|              tzone|\n",
            "+---+--------------------+----------+------------+----+---+---+-------------------+\n",
            "|04G|   Lansdowne Airport|41.1304722| -80.6195833|1044| -5|  A|   America/New_York|\n",
            "|0A9|Elizabethton Muni...|36.3712222| -82.1734167|1593| -5|  A|   America/New_York|\n",
            "|17G|Port Bucyrus-Craw...|40.7815556| -82.9748056|1003| -5|  A|   America/New_York|\n",
            "|1A3|Martin Campbell F...|35.0158056| -84.3468333|1789| -5|  A|   America/New_York|\n",
            "|1G3|  Kent State Airport|41.1513889| -81.4151111|1134| -5|  A|   America/New_York|\n",
            "|1G4|Grand Canyon West...| 35.899904| -113.815674|4813| -7|  A|    America/Phoenix|\n",
            "|29D|  Grove City Airport|41.1460278|   -80.16775|1371| -5|  A|   America/New_York|\n",
            "|2G2|Jefferson County ...|40.3602179| -80.7008742|1196| -5|  A|   America/New_York|\n",
            "|2G9|Somerset County A...|40.0388708| -79.0149951|2275| -5|  A|   America/New_York|\n",
            "|36U|Heber City Munici...|40.4818056|-111.4288056|5637| -7|  A|     America/Denver|\n",
            "|3G4|Ashland County Ai...|40.9029722| -82.2556389|1206| -5|  A|   America/New_York|\n",
            "|47A|Cherokee County A...|34.3122175| -84.4221556|1219| -5|  A|   America/New_York|\n",
            "|49A|Gilmer County Air...|34.6282222| -84.5265833|1486| -5|  A|   America/New_York|\n",
            "|4G0|Pittsburgh-Monroe...|40.4526389| -79.7749167|1187| -5|  A|   America/New_York|\n",
            "|4G4|Youngstown Elser ...|40.9617953| -80.6773264|1070| -5|  A|   America/New_York|\n",
            "|4U9|   Dell Flight Strip|44.7357483|-112.7200133|6007| -7|  A|     America/Denver|\n",
            "|55S|            Packwood|   46.3625|   -121.4067|1057| -8|  A|America/Los_Angeles|\n",
            "|6K8|Tok Junction Airport| 63.329444| -142.953611|1639| -9|  A|  America/Anchorage|\n",
            "|6S0|  Big Timber Airport|45.8063889|-109.9811111|4492| -7|  A|     America/Denver|\n",
            "|70N| Spring Hill Airport|41.3473569| -75.4158972|1729| -5|  A|   America/New_York|\n",
            "+---+--------------------+----------+------------+----+---+---+-------------------+\n",
            "only showing top 20 rows\n",
            "\n"
          ]
        }
      ]
    },
    {
      "cell_type": "code",
      "source": [
        "# Lets select a couple of columns from the main dataframe\n",
        "# In our example, we want just the names of the airports and their time zone w.r.t. GMT\n",
        "airports_df.select(['name','tz']).show()"
      ],
      "metadata": {
        "colab": {
          "base_uri": "https://localhost:8080/"
        },
        "id": "dE6pA6O7890A",
        "outputId": "045fb4be-e198-4247-e6d8-4ff677696c38"
      },
      "execution_count": 36,
      "outputs": [
        {
          "output_type": "stream",
          "name": "stdout",
          "text": [
            "+--------------------+---+\n",
            "|                name| tz|\n",
            "+--------------------+---+\n",
            "|   Lansdowne Airport| -5|\n",
            "|Moton Field Munic...| -6|\n",
            "| Schaumburg Regional| -6|\n",
            "|     Randall Airport| -5|\n",
            "|Jekyll Island Air...| -5|\n",
            "|Elizabethton Muni...| -5|\n",
            "|Williams County A...| -5|\n",
            "|Finger Lakes Regi...| -5|\n",
            "|Shoestring Aviati...| -5|\n",
            "|Jefferson County ...| -8|\n",
            "|Harford County Ai...| -5|\n",
            "|  Galt Field Airport| -6|\n",
            "|Port Bucyrus-Craw...| -5|\n",
            "|Jackson County Ai...| -5|\n",
            "|Martin Campbell F...| -5|\n",
            "| Mansfield Municipal| -5|\n",
            "|Frazier Lake Airpark| -8|\n",
            "|Clow Internationa...| -6|\n",
            "|  Kent State Airport| -5|\n",
            "|Grand Canyon West...| -7|\n",
            "+--------------------+---+\n",
            "only showing top 20 rows\n",
            "\n"
          ]
        }
      ]
    },
    {
      "cell_type": "code",
      "source": [
        "# Renaming columns is key in data handling\n",
        "# Lets rename lat and lon to their full-forms\n",
        "airports_df = airports_df.withColumnRenamed(\"lat\", \"latitude\")"
      ],
      "metadata": {
        "id": "4MeCrfDR-1s1"
      },
      "execution_count": 38,
      "outputs": []
    },
    {
      "cell_type": "code",
      "source": [
        "# Checking the change\n",
        "airports_df.columns"
      ],
      "metadata": {
        "colab": {
          "base_uri": "https://localhost:8080/"
        },
        "id": "yvXfoWxV_gPw",
        "outputId": "af9bb304-dca6-4b4a-90cf-13a718a8bcbb"
      },
      "execution_count": 40,
      "outputs": [
        {
          "output_type": "execute_result",
          "data": {
            "text/plain": [
              "['faa', 'name', 'latitude', 'lon', 'alt', 'tz', 'dst', 'tzone']"
            ]
          },
          "metadata": {},
          "execution_count": 40
        }
      ]
    },
    {
      "cell_type": "code",
      "source": [
        "# Now the above works for only one column, lets try for multiple columns\n",
        "colname_replacements = {\n",
        "    \"latitude\": \"new_latitude\",\n",
        "    \"lon\": \"longitude\"\n",
        "}\n",
        "\n",
        "for old_colname, new_colname in colname_replacements.items():\n",
        "  airports_df = airports_df.withColumnRenamed(old_colname, new_colname)"
      ],
      "metadata": {
        "id": "m8f2OU8H_R1K"
      },
      "execution_count": 43,
      "outputs": []
    },
    {
      "cell_type": "code",
      "source": [
        "# Lets check again\n",
        "airports_df.columns"
      ],
      "metadata": {
        "colab": {
          "base_uri": "https://localhost:8080/"
        },
        "id": "C2V1cu_X_4oN",
        "outputId": "5d8f2a33-c5b4-41fa-a85b-b0cf98362842"
      },
      "execution_count": 44,
      "outputs": [
        {
          "output_type": "execute_result",
          "data": {
            "text/plain": [
              "['faa', 'name', 'new_latitude', 'longitude', 'alt', 'tz', 'dst', 'tzone']"
            ]
          },
          "metadata": {},
          "execution_count": 44
        }
      ]
    },
    {
      "cell_type": "code",
      "source": [
        "# Handling duplicates is so essential! Lets say we want to drop duplicates in the tzone column\n",
        "airports_df.dropDuplicates([\"tzone\"]).show()\n",
        "# This will take the first instance only and discard all remaining instances of duplicate values"
      ],
      "metadata": {
        "colab": {
          "base_uri": "https://localhost:8080/"
        },
        "id": "3wGVwcZpAC12",
        "outputId": "57a03c07-2977-4cd5-c29e-90a1a18ad63a"
      },
      "execution_count": 50,
      "outputs": [
        {
          "output_type": "stream",
          "name": "stdout",
          "text": [
            "+---+--------------------+------------------+-------------------+----+---+---+-------------------+\n",
            "|faa|                name|      new_latitude|          longitude| alt| tz|dst|              tzone|\n",
            "+---+--------------------+------------------+-------------------+----+---+---+-------------------+\n",
            "|1C9|Frazier Lake Airpark|54.013333333333335|-124.76833333333333| 152| -8|  A|  America/Vancouver|\n",
            "|06A|Moton Field Munic...|        32.4605722|        -85.6800278| 264| -6|  A|    America/Chicago|\n",
            "|0S9|Jefferson County ...|        48.0538086|       -122.8106436| 108| -8|  A|America/Los_Angeles|\n",
            "|EEN|Dillant Hopkins A...|         72.270833|          42.898333| 149| -5|  A|                 NA|\n",
            "|04G|   Lansdowne Airport|        41.1304722|        -80.6195833|1044| -5|  A|   America/New_York|\n",
            "|369|  Atmautluak Airport|         60.866667|        -162.273056|  18| -9|  A|  America/Anchorage|\n",
            "|36U|Heber City Munici...|        40.4818056|       -111.4288056|5637| -7|  A|     America/Denver|\n",
            "|BKH|  Barking Sands Pmrf|         22.022833|           -159.785|  23|-10|  A|   Pacific/Honolulu|\n",
            "|DVT|Deer Valley Munic...|           33.4117|            112.457|1478|  8|  A|     Asia/Chongqing|\n",
            "|1G4|Grand Canyon West...|         35.899904|        -113.815674|4813| -7|  A|    America/Phoenix|\n",
            "+---+--------------------+------------------+-------------------+----+---+---+-------------------+\n",
            "\n"
          ]
        }
      ]
    },
    {
      "cell_type": "code",
      "source": [
        "# Finding the number of distinct time zones will also be helpful\n",
        "airports_df.select(\"tzone\").distinct().count()\n",
        "# We need to use the 'select' function because pyspark dataframes are not callable"
      ],
      "metadata": {
        "colab": {
          "base_uri": "https://localhost:8080/"
        },
        "id": "aPrgCkEYJunw",
        "outputId": "2400e19e-d398-4b29-fa4b-2c1271554df7"
      },
      "execution_count": 59,
      "outputs": [
        {
          "output_type": "execute_result",
          "data": {
            "text/plain": [
              "10"
            ]
          },
          "metadata": {},
          "execution_count": 59
        }
      ]
    },
    {
      "cell_type": "code",
      "source": [
        "!pip install"
      ],
      "metadata": {
        "id": "bXwow7VyMrFi"
      },
      "execution_count": null,
      "outputs": []
    },
    {
      "cell_type": "code",
      "source": [
        "# Now lets say we want to add a new column fill a default value. In this example, we want a new column to indicate whether the airports are in operation\n",
        "# This will require a new package called lit\n",
        "from pyspark.sql.functions import lit\n",
        "\n",
        "constant_value = \"OPERATIONAL\"\n",
        "airports_df = airports_df.withColumn(\"Operating Status\", lit(constant_value))"
      ],
      "metadata": {
        "id": "9M3maYEXKyN-"
      },
      "execution_count": 63,
      "outputs": []
    },
    {
      "cell_type": "code",
      "source": [
        "# Ta-da!!\n",
        "airports_df.show()"
      ],
      "metadata": {
        "colab": {
          "base_uri": "https://localhost:8080/"
        },
        "id": "aFYPhN5RMk4f",
        "outputId": "e50cbbc2-0680-4839-f239-bb1d8b8da41b"
      },
      "execution_count": 65,
      "outputs": [
        {
          "output_type": "stream",
          "name": "stdout",
          "text": [
            "+---+--------------------+------------------+-------------------+----+---+---+-------------------+----------------+\n",
            "|faa|                name|      new_latitude|          longitude| alt| tz|dst|              tzone|Operating Status|\n",
            "+---+--------------------+------------------+-------------------+----+---+---+-------------------+----------------+\n",
            "|04G|   Lansdowne Airport|        41.1304722|        -80.6195833|1044| -5|  A|   America/New_York|     OPERATIONAL|\n",
            "|06A|Moton Field Munic...|        32.4605722|        -85.6800278| 264| -6|  A|    America/Chicago|     OPERATIONAL|\n",
            "|06C| Schaumburg Regional|        41.9893408|        -88.1012428| 801| -6|  A|    America/Chicago|     OPERATIONAL|\n",
            "|06N|     Randall Airport|         41.431912|        -74.3915611| 523| -5|  A|   America/New_York|     OPERATIONAL|\n",
            "|09J|Jekyll Island Air...|        31.0744722|        -81.4277778|  11| -5|  A|   America/New_York|     OPERATIONAL|\n",
            "|0A9|Elizabethton Muni...|        36.3712222|        -82.1734167|1593| -5|  A|   America/New_York|     OPERATIONAL|\n",
            "|0G6|Williams County A...|        41.4673056|        -84.5067778| 730| -5|  A|   America/New_York|     OPERATIONAL|\n",
            "|0G7|Finger Lakes Regi...|        42.8835647|        -76.7812318| 492| -5|  A|   America/New_York|     OPERATIONAL|\n",
            "|0P2|Shoestring Aviati...|        39.7948244|        -76.6471914|1000| -5|  U|   America/New_York|     OPERATIONAL|\n",
            "|0S9|Jefferson County ...|        48.0538086|       -122.8106436| 108| -8|  A|America/Los_Angeles|     OPERATIONAL|\n",
            "|0W3|Harford County Ai...|        39.5668378|        -76.2024028| 409| -5|  A|   America/New_York|     OPERATIONAL|\n",
            "|10C|  Galt Field Airport|        42.4028889|        -88.3751111| 875| -6|  U|    America/Chicago|     OPERATIONAL|\n",
            "|17G|Port Bucyrus-Craw...|        40.7815556|        -82.9748056|1003| -5|  A|   America/New_York|     OPERATIONAL|\n",
            "|19A|Jackson County Ai...|        34.1758638|        -83.5615972| 951| -5|  U|   America/New_York|     OPERATIONAL|\n",
            "|1A3|Martin Campbell F...|        35.0158056|        -84.3468333|1789| -5|  A|   America/New_York|     OPERATIONAL|\n",
            "|1B9| Mansfield Municipal|        42.0001331|        -71.1967714| 122| -5|  A|   America/New_York|     OPERATIONAL|\n",
            "|1C9|Frazier Lake Airpark|54.013333333333335|-124.76833333333333| 152| -8|  A|  America/Vancouver|     OPERATIONAL|\n",
            "|1CS|Clow Internationa...|        41.6959744|        -88.1292306| 670| -6|  U|    America/Chicago|     OPERATIONAL|\n",
            "|1G3|  Kent State Airport|        41.1513889|        -81.4151111|1134| -5|  A|   America/New_York|     OPERATIONAL|\n",
            "|1G4|Grand Canyon West...|         35.899904|        -113.815674|4813| -7|  A|    America/Phoenix|     OPERATIONAL|\n",
            "+---+--------------------+------------------+-------------------+----+---+---+-------------------+----------------+\n",
            "only showing top 20 rows\n",
            "\n"
          ]
        }
      ]
    },
    {
      "cell_type": "code",
      "source": [
        "# Looking at our latitude and longitude columns, we got some pretty long decimals there\n",
        "# Lets use a function to get them down to just two decimal values (might not be appropriate for actual geopositional data, but will be implemented to understand the concept)\n",
        "\n",
        "from pyspark.sql.functions import round\n",
        "\n",
        "airports_df.withColumn(\"rounded_latitude\", round(airports_df[\"new_latitude\"], 2)).show()"
      ],
      "metadata": {
        "colab": {
          "base_uri": "https://localhost:8080/"
        },
        "id": "xwkPGOKVOB-Z",
        "outputId": "8f82a540-5ef3-4f69-8c7f-abb1b130a1ee"
      },
      "execution_count": 70,
      "outputs": [
        {
          "output_type": "stream",
          "name": "stdout",
          "text": [
            "+---+--------------------+------------------+-------------------+----+---+---+-------------------+----------------+----------------+\n",
            "|faa|                name|      new_latitude|          longitude| alt| tz|dst|              tzone|Operating Status|rounded_latitude|\n",
            "+---+--------------------+------------------+-------------------+----+---+---+-------------------+----------------+----------------+\n",
            "|04G|   Lansdowne Airport|        41.1304722|        -80.6195833|1044| -5|  A|   America/New_York|     OPERATIONAL|           41.13|\n",
            "|06A|Moton Field Munic...|        32.4605722|        -85.6800278| 264| -6|  A|    America/Chicago|     OPERATIONAL|           32.46|\n",
            "|06C| Schaumburg Regional|        41.9893408|        -88.1012428| 801| -6|  A|    America/Chicago|     OPERATIONAL|           41.99|\n",
            "|06N|     Randall Airport|         41.431912|        -74.3915611| 523| -5|  A|   America/New_York|     OPERATIONAL|           41.43|\n",
            "|09J|Jekyll Island Air...|        31.0744722|        -81.4277778|  11| -5|  A|   America/New_York|     OPERATIONAL|           31.07|\n",
            "|0A9|Elizabethton Muni...|        36.3712222|        -82.1734167|1593| -5|  A|   America/New_York|     OPERATIONAL|           36.37|\n",
            "|0G6|Williams County A...|        41.4673056|        -84.5067778| 730| -5|  A|   America/New_York|     OPERATIONAL|           41.47|\n",
            "|0G7|Finger Lakes Regi...|        42.8835647|        -76.7812318| 492| -5|  A|   America/New_York|     OPERATIONAL|           42.88|\n",
            "|0P2|Shoestring Aviati...|        39.7948244|        -76.6471914|1000| -5|  U|   America/New_York|     OPERATIONAL|           39.79|\n",
            "|0S9|Jefferson County ...|        48.0538086|       -122.8106436| 108| -8|  A|America/Los_Angeles|     OPERATIONAL|           48.05|\n",
            "|0W3|Harford County Ai...|        39.5668378|        -76.2024028| 409| -5|  A|   America/New_York|     OPERATIONAL|           39.57|\n",
            "|10C|  Galt Field Airport|        42.4028889|        -88.3751111| 875| -6|  U|    America/Chicago|     OPERATIONAL|            42.4|\n",
            "|17G|Port Bucyrus-Craw...|        40.7815556|        -82.9748056|1003| -5|  A|   America/New_York|     OPERATIONAL|           40.78|\n",
            "|19A|Jackson County Ai...|        34.1758638|        -83.5615972| 951| -5|  U|   America/New_York|     OPERATIONAL|           34.18|\n",
            "|1A3|Martin Campbell F...|        35.0158056|        -84.3468333|1789| -5|  A|   America/New_York|     OPERATIONAL|           35.02|\n",
            "|1B9| Mansfield Municipal|        42.0001331|        -71.1967714| 122| -5|  A|   America/New_York|     OPERATIONAL|            42.0|\n",
            "|1C9|Frazier Lake Airpark|54.013333333333335|-124.76833333333333| 152| -8|  A|  America/Vancouver|     OPERATIONAL|           54.01|\n",
            "|1CS|Clow Internationa...|        41.6959744|        -88.1292306| 670| -6|  U|    America/Chicago|     OPERATIONAL|            41.7|\n",
            "|1G3|  Kent State Airport|        41.1513889|        -81.4151111|1134| -5|  A|   America/New_York|     OPERATIONAL|           41.15|\n",
            "|1G4|Grand Canyon West...|         35.899904|        -113.815674|4813| -7|  A|    America/Phoenix|     OPERATIONAL|            35.9|\n",
            "+---+--------------------+------------------+-------------------+----+---+---+-------------------+----------------+----------------+\n",
            "only showing top 20 rows\n",
            "\n"
          ]
        }
      ]
    },
    {
      "cell_type": "code",
      "source": [
        "# Last but not the least, we sometimes need to typecast the columns\n",
        "# This can be done in the following manner\n",
        "\n",
        "# Lets check the schema once more\n",
        "airports_df.printSchema()"
      ],
      "metadata": {
        "colab": {
          "base_uri": "https://localhost:8080/"
        },
        "id": "ByTxFMbNO53M",
        "outputId": "69dcbf88-541d-41c1-a8a0-1efb736e5273"
      },
      "execution_count": 75,
      "outputs": [
        {
          "output_type": "stream",
          "name": "stdout",
          "text": [
            "root\n",
            " |-- faa: string (nullable = true)\n",
            " |-- name: string (nullable = true)\n",
            " |-- new_latitude: double (nullable = true)\n",
            " |-- longitude: double (nullable = true)\n",
            " |-- alt: integer (nullable = true)\n",
            " |-- tz: integer (nullable = true)\n",
            " |-- dst: string (nullable = true)\n",
            " |-- tzone: string (nullable = true)\n",
            " |-- Operating Status: string (nullable = false)\n",
            "\n"
          ]
        }
      ]
    },
    {
      "cell_type": "code",
      "source": [
        "# Say, we want to change rounded_latitude to integer\n",
        "from pyspark.sql import functions as f\n",
        "\n",
        "# Creates a new column with the type-casted values\n",
        "airports_df.withColumn(\"new_latitude_integer\", f.col(\"new_latitude\").cast(\"integer\")).show()"
      ],
      "metadata": {
        "colab": {
          "base_uri": "https://localhost:8080/"
        },
        "id": "f5ckFIWxPufj",
        "outputId": "5b1e2912-225b-4227-b18d-d2a3790839f8"
      },
      "execution_count": 80,
      "outputs": [
        {
          "output_type": "stream",
          "name": "stdout",
          "text": [
            "+---+--------------------+------------------+-------------------+----+---+---+-------------------+----------------+--------------------+\n",
            "|faa|                name|      new_latitude|          longitude| alt| tz|dst|              tzone|Operating Status|new_latitude_integer|\n",
            "+---+--------------------+------------------+-------------------+----+---+---+-------------------+----------------+--------------------+\n",
            "|04G|   Lansdowne Airport|        41.1304722|        -80.6195833|1044| -5|  A|   America/New_York|     OPERATIONAL|                  41|\n",
            "|06A|Moton Field Munic...|        32.4605722|        -85.6800278| 264| -6|  A|    America/Chicago|     OPERATIONAL|                  32|\n",
            "|06C| Schaumburg Regional|        41.9893408|        -88.1012428| 801| -6|  A|    America/Chicago|     OPERATIONAL|                  41|\n",
            "|06N|     Randall Airport|         41.431912|        -74.3915611| 523| -5|  A|   America/New_York|     OPERATIONAL|                  41|\n",
            "|09J|Jekyll Island Air...|        31.0744722|        -81.4277778|  11| -5|  A|   America/New_York|     OPERATIONAL|                  31|\n",
            "|0A9|Elizabethton Muni...|        36.3712222|        -82.1734167|1593| -5|  A|   America/New_York|     OPERATIONAL|                  36|\n",
            "|0G6|Williams County A...|        41.4673056|        -84.5067778| 730| -5|  A|   America/New_York|     OPERATIONAL|                  41|\n",
            "|0G7|Finger Lakes Regi...|        42.8835647|        -76.7812318| 492| -5|  A|   America/New_York|     OPERATIONAL|                  42|\n",
            "|0P2|Shoestring Aviati...|        39.7948244|        -76.6471914|1000| -5|  U|   America/New_York|     OPERATIONAL|                  39|\n",
            "|0S9|Jefferson County ...|        48.0538086|       -122.8106436| 108| -8|  A|America/Los_Angeles|     OPERATIONAL|                  48|\n",
            "|0W3|Harford County Ai...|        39.5668378|        -76.2024028| 409| -5|  A|   America/New_York|     OPERATIONAL|                  39|\n",
            "|10C|  Galt Field Airport|        42.4028889|        -88.3751111| 875| -6|  U|    America/Chicago|     OPERATIONAL|                  42|\n",
            "|17G|Port Bucyrus-Craw...|        40.7815556|        -82.9748056|1003| -5|  A|   America/New_York|     OPERATIONAL|                  40|\n",
            "|19A|Jackson County Ai...|        34.1758638|        -83.5615972| 951| -5|  U|   America/New_York|     OPERATIONAL|                  34|\n",
            "|1A3|Martin Campbell F...|        35.0158056|        -84.3468333|1789| -5|  A|   America/New_York|     OPERATIONAL|                  35|\n",
            "|1B9| Mansfield Municipal|        42.0001331|        -71.1967714| 122| -5|  A|   America/New_York|     OPERATIONAL|                  42|\n",
            "|1C9|Frazier Lake Airpark|54.013333333333335|-124.76833333333333| 152| -8|  A|  America/Vancouver|     OPERATIONAL|                  54|\n",
            "|1CS|Clow Internationa...|        41.6959744|        -88.1292306| 670| -6|  U|    America/Chicago|     OPERATIONAL|                  41|\n",
            "|1G3|  Kent State Airport|        41.1513889|        -81.4151111|1134| -5|  A|   America/New_York|     OPERATIONAL|                  41|\n",
            "|1G4|Grand Canyon West...|         35.899904|        -113.815674|4813| -7|  A|    America/Phoenix|     OPERATIONAL|                  35|\n",
            "+---+--------------------+------------------+-------------------+----+---+---+-------------------+----------------+--------------------+\n",
            "only showing top 20 rows\n",
            "\n"
          ]
        }
      ]
    },
    {
      "cell_type": "code",
      "source": [
        "# If we'd like a temporary view from a dataframe, we can do it as so\n",
        "\n",
        "# Creating the temporary view\n",
        "airports_df.createOrReplaceTempView(\"airports_table\")\n",
        "\n",
        "# Then we can query the temporary view using spark sql\n",
        "queried_df = spark.sql(\"SELECT * FROM airports_table\")"
      ],
      "metadata": {
        "id": "z44oJG1DQVd4"
      },
      "execution_count": 81,
      "outputs": []
    },
    {
      "cell_type": "markdown",
      "source": [
        "and thus we come to the end of the journey"
      ],
      "metadata": {
        "id": "Snd_h2u_Rl4J"
      }
    },
    {
      "cell_type": "code",
      "source": [
        "# This is how we'll end our Spark session\n",
        "spark.stop()"
      ],
      "metadata": {
        "id": "iP9S66dmRfiv"
      },
      "execution_count": 84,
      "outputs": []
    }
  ]
}